{
 "cells": [
  {
   "cell_type": "markdown",
   "id": "53de0c8c-91ea-4149-a030-d30f6295fa44",
   "metadata": {},
   "source": [
    "VECTOR DATA ANALYSIS"
   ]
  },
  {
   "cell_type": "code",
   "execution_count": 2,
   "id": "a09addeb-b868-492b-9ea5-d14c03301012",
   "metadata": {},
   "outputs": [
    {
     "ename": "ModuleNotFoundError",
     "evalue": "No module named 'geopandas'",
     "output_type": "error",
     "traceback": [
      "\u001b[1;31m---------------------------------------------------------------------------\u001b[0m",
      "\u001b[1;31mModuleNotFoundError\u001b[0m                       Traceback (most recent call last)",
      "Cell \u001b[1;32mIn[2], line 2\u001b[0m\n\u001b[0;32m      1\u001b[0m \u001b[38;5;28;01mimport\u001b[39;00m \u001b[38;5;21;01mpandas\u001b[39;00m \u001b[38;5;28;01mas\u001b[39;00m \u001b[38;5;21;01mpd\u001b[39;00m\n\u001b[1;32m----> 2\u001b[0m \u001b[38;5;28;01mimport\u001b[39;00m \u001b[38;5;21;01mgeopandas\u001b[39;00m \u001b[38;5;28;01mas\u001b[39;00m \u001b[38;5;21;01mgpd\u001b[39;00m\n\u001b[0;32m      3\u001b[0m \u001b[38;5;28;01mfrom\u001b[39;00m \u001b[38;5;21;01mgeopandas\u001b[39;00m \u001b[38;5;28;01mimport\u001b[39;00m GeoSeries\n\u001b[0;32m      4\u001b[0m \u001b[38;5;28;01mimport\u001b[39;00m \u001b[38;5;21;01mnumpy\u001b[39;00m \u001b[38;5;28;01mas\u001b[39;00m \u001b[38;5;21;01mnp\u001b[39;00m\n",
      "\u001b[1;31mModuleNotFoundError\u001b[0m: No module named 'geopandas'"
     ]
    }
   ],
   "source": [
    "import pandas as pd\n",
    "import geopandas as gpd\n",
    "from geopandas import GeoSeries\n",
    "import numpy as np\n",
    "from matplotlib import pyplot as plt\n",
    "import os"
   ]
  },
  {
   "cell_type": "code",
   "execution_count": 2,
   "id": "a7fa9a8e-6b83-4938-a5ee-6d97300053ec",
   "metadata": {},
   "outputs": [],
   "source": [
    "Districts = pd.Series(['Tirunelveli', 'Kanniya Kumari', 'Theni', 'Ooty', 'Dindukal'])\n",
    "Special = pd.Series(['Thamiraparani', 'Beach', 'Westernghats', 'Nilgiri Tahr', 'Palani Murugar'])"
   ]
  },
  {
   "cell_type": "code",
   "execution_count": 3,
   "id": "454b6cca-43a6-4946-9fa4-14751f3e513a",
   "metadata": {},
   "outputs": [
    {
     "data": {
      "text/plain": [
       "(0       Tirunelveli\n",
       " 1    Kanniya Kumari\n",
       " 2             Theni\n",
       " 3              Ooty\n",
       " 4          Dindukal\n",
       " dtype: object,\n",
       " 0     Thamiraparani\n",
       " 1             Beach\n",
       " 2      Westernghats\n",
       " 3      Nilgiri Tahr\n",
       " 4    Palani Murugar\n",
       " dtype: object)"
      ]
     },
     "execution_count": 3,
     "metadata": {},
     "output_type": "execute_result"
    }
   ],
   "source": [
    "Districts, Special"
   ]
  },
  {
   "cell_type": "code",
   "execution_count": 4,
   "id": "c63e69d3-6dca-43d8-804a-aa6cbeae2873",
   "metadata": {},
   "outputs": [],
   "source": [
    "table = pd.DataFrame({'District Name':Districts, 'Special Things':Special})"
   ]
  },
  {
   "cell_type": "code",
   "execution_count": 5,
   "id": "bf60e4f3-b95a-4679-a914-3326147f6e91",
   "metadata": {},
   "outputs": [
    {
     "data": {
      "text/html": [
       "<div>\n",
       "<style scoped>\n",
       "    .dataframe tbody tr th:only-of-type {\n",
       "        vertical-align: middle;\n",
       "    }\n",
       "\n",
       "    .dataframe tbody tr th {\n",
       "        vertical-align: top;\n",
       "    }\n",
       "\n",
       "    .dataframe thead th {\n",
       "        text-align: right;\n",
       "    }\n",
       "</style>\n",
       "<table border=\"1\" class=\"dataframe\">\n",
       "  <thead>\n",
       "    <tr style=\"text-align: right;\">\n",
       "      <th></th>\n",
       "      <th>District Name</th>\n",
       "      <th>Special Things</th>\n",
       "    </tr>\n",
       "  </thead>\n",
       "  <tbody>\n",
       "    <tr>\n",
       "      <th>0</th>\n",
       "      <td>Tirunelveli</td>\n",
       "      <td>Thamiraparani</td>\n",
       "    </tr>\n",
       "    <tr>\n",
       "      <th>1</th>\n",
       "      <td>Kanniya Kumari</td>\n",
       "      <td>Beach</td>\n",
       "    </tr>\n",
       "    <tr>\n",
       "      <th>2</th>\n",
       "      <td>Theni</td>\n",
       "      <td>Westernghats</td>\n",
       "    </tr>\n",
       "    <tr>\n",
       "      <th>3</th>\n",
       "      <td>Ooty</td>\n",
       "      <td>Nilgiri Tahr</td>\n",
       "    </tr>\n",
       "    <tr>\n",
       "      <th>4</th>\n",
       "      <td>Dindukal</td>\n",
       "      <td>Palani Murugar</td>\n",
       "    </tr>\n",
       "  </tbody>\n",
       "</table>\n",
       "</div>"
      ],
      "text/plain": [
       "    District Name  Special Things\n",
       "0     Tirunelveli   Thamiraparani\n",
       "1  Kanniya Kumari           Beach\n",
       "2           Theni    Westernghats\n",
       "3            Ooty    Nilgiri Tahr\n",
       "4        Dindukal  Palani Murugar"
      ]
     },
     "execution_count": 5,
     "metadata": {},
     "output_type": "execute_result"
    }
   ],
   "source": [
    "table"
   ]
  },
  {
   "cell_type": "code",
   "execution_count": 6,
   "id": "336441d3-6088-4698-8789-180e78f31db5",
   "metadata": {},
   "outputs": [
    {
     "data": {
      "text/html": [
       "<div>\n",
       "<style scoped>\n",
       "    .dataframe tbody tr th:only-of-type {\n",
       "        vertical-align: middle;\n",
       "    }\n",
       "\n",
       "    .dataframe tbody tr th {\n",
       "        vertical-align: top;\n",
       "    }\n",
       "\n",
       "    .dataframe thead th {\n",
       "        text-align: right;\n",
       "    }\n",
       "</style>\n",
       "<table border=\"1\" class=\"dataframe\">\n",
       "  <thead>\n",
       "    <tr style=\"text-align: right;\">\n",
       "      <th></th>\n",
       "      <th>District Name</th>\n",
       "      <th>Special Things</th>\n",
       "    </tr>\n",
       "  </thead>\n",
       "  <tbody>\n",
       "    <tr>\n",
       "      <th>0</th>\n",
       "      <td>Tirunelveli</td>\n",
       "      <td>Thamiraparani</td>\n",
       "    </tr>\n",
       "    <tr>\n",
       "      <th>1</th>\n",
       "      <td>Kanniya Kumari</td>\n",
       "      <td>Beach</td>\n",
       "    </tr>\n",
       "  </tbody>\n",
       "</table>\n",
       "</div>"
      ],
      "text/plain": [
       "    District Name Special Things\n",
       "0     Tirunelveli  Thamiraparani\n",
       "1  Kanniya Kumari          Beach"
      ]
     },
     "execution_count": 6,
     "metadata": {},
     "output_type": "execute_result"
    }
   ],
   "source": [
    "table.head(2)"
   ]
  },
  {
   "cell_type": "code",
   "execution_count": 7,
   "id": "daad1e8a-5335-48fd-bc50-7749f89e218c",
   "metadata": {},
   "outputs": [
    {
     "data": {
      "text/html": [
       "<div>\n",
       "<style scoped>\n",
       "    .dataframe tbody tr th:only-of-type {\n",
       "        vertical-align: middle;\n",
       "    }\n",
       "\n",
       "    .dataframe tbody tr th {\n",
       "        vertical-align: top;\n",
       "    }\n",
       "\n",
       "    .dataframe thead th {\n",
       "        text-align: right;\n",
       "    }\n",
       "</style>\n",
       "<table border=\"1\" class=\"dataframe\">\n",
       "  <thead>\n",
       "    <tr style=\"text-align: right;\">\n",
       "      <th></th>\n",
       "      <th>District Name</th>\n",
       "      <th>Special Things</th>\n",
       "    </tr>\n",
       "  </thead>\n",
       "  <tbody>\n",
       "    <tr>\n",
       "      <th>3</th>\n",
       "      <td>Ooty</td>\n",
       "      <td>Nilgiri Tahr</td>\n",
       "    </tr>\n",
       "    <tr>\n",
       "      <th>4</th>\n",
       "      <td>Dindukal</td>\n",
       "      <td>Palani Murugar</td>\n",
       "    </tr>\n",
       "  </tbody>\n",
       "</table>\n",
       "</div>"
      ],
      "text/plain": [
       "  District Name  Special Things\n",
       "3          Ooty    Nilgiri Tahr\n",
       "4      Dindukal  Palani Murugar"
      ]
     },
     "execution_count": 7,
     "metadata": {},
     "output_type": "execute_result"
    }
   ],
   "source": [
    "table.tail(2)"
   ]
  },
  {
   "cell_type": "code",
   "execution_count": 8,
   "id": "5f5e3972-56ec-4c97-965f-3bcd0b10ee9e",
   "metadata": {},
   "outputs": [
    {
     "data": {
      "text/plain": [
       "0       Tirunelveli\n",
       "1    Kanniya Kumari\n",
       "2             Theni\n",
       "3              Ooty\n",
       "4          Dindukal\n",
       "Name: District Name, dtype: object"
      ]
     },
     "execution_count": 8,
     "metadata": {},
     "output_type": "execute_result"
    }
   ],
   "source": [
    "table['District Name']"
   ]
  },
  {
   "cell_type": "code",
   "execution_count": 9,
   "id": "33531837-d970-4a60-9dac-8c9d9b6b0f85",
   "metadata": {},
   "outputs": [
    {
     "data": {
      "text/plain": [
       "'Theni'"
      ]
     },
     "execution_count": 9,
     "metadata": {},
     "output_type": "execute_result"
    }
   ],
   "source": [
    "table['District Name'][2]"
   ]
  },
  {
   "cell_type": "code",
   "execution_count": 10,
   "id": "0cda2614-c0d5-4584-ad1e-99ee5c37158f",
   "metadata": {},
   "outputs": [
    {
     "data": {
      "text/plain": [
       "1    Kanniya Kumari\n",
       "2             Theni\n",
       "Name: District Name, dtype: object"
      ]
     },
     "execution_count": 10,
     "metadata": {},
     "output_type": "execute_result"
    }
   ],
   "source": [
    "table['District Name'][1:3]"
   ]
  },
  {
   "cell_type": "code",
   "execution_count": 11,
   "id": "e1f22e02-3c42-4f78-a2c1-0353eb92e91a",
   "metadata": {},
   "outputs": [
    {
     "data": {
      "text/html": [
       "<div>\n",
       "<style scoped>\n",
       "    .dataframe tbody tr th:only-of-type {\n",
       "        vertical-align: middle;\n",
       "    }\n",
       "\n",
       "    .dataframe tbody tr th {\n",
       "        vertical-align: top;\n",
       "    }\n",
       "\n",
       "    .dataframe thead th {\n",
       "        text-align: right;\n",
       "    }\n",
       "</style>\n",
       "<table border=\"1\" class=\"dataframe\">\n",
       "  <thead>\n",
       "    <tr style=\"text-align: right;\">\n",
       "      <th></th>\n",
       "      <th>District Name</th>\n",
       "      <th>Special Things</th>\n",
       "    </tr>\n",
       "  </thead>\n",
       "  <tbody>\n",
       "    <tr>\n",
       "      <th>2</th>\n",
       "      <td>Theni</td>\n",
       "      <td>Westernghats</td>\n",
       "    </tr>\n",
       "  </tbody>\n",
       "</table>\n",
       "</div>"
      ],
      "text/plain": [
       "  District Name Special Things\n",
       "2         Theni   Westernghats"
      ]
     },
     "execution_count": 11,
     "metadata": {},
     "output_type": "execute_result"
    }
   ],
   "source": [
    "table[table['District Name'] == 'Theni']"
   ]
  },
  {
   "cell_type": "code",
   "execution_count": 12,
   "id": "8e7b39af-a79f-4bdc-9f3f-d7c97b3e784e",
   "metadata": {},
   "outputs": [
    {
     "data": {
      "text/html": [
       "<div>\n",
       "<style scoped>\n",
       "    .dataframe tbody tr th:only-of-type {\n",
       "        vertical-align: middle;\n",
       "    }\n",
       "\n",
       "    .dataframe tbody tr th {\n",
       "        vertical-align: top;\n",
       "    }\n",
       "\n",
       "    .dataframe thead th {\n",
       "        text-align: right;\n",
       "    }\n",
       "</style>\n",
       "<table border=\"1\" class=\"dataframe\">\n",
       "  <thead>\n",
       "    <tr style=\"text-align: right;\">\n",
       "      <th></th>\n",
       "      <th>District Name</th>\n",
       "      <th>Special Things</th>\n",
       "    </tr>\n",
       "  </thead>\n",
       "  <tbody>\n",
       "    <tr>\n",
       "      <th>4</th>\n",
       "      <td>Dindukal</td>\n",
       "      <td>Palani Murugar</td>\n",
       "    </tr>\n",
       "    <tr>\n",
       "      <th>1</th>\n",
       "      <td>Kanniya Kumari</td>\n",
       "      <td>Beach</td>\n",
       "    </tr>\n",
       "    <tr>\n",
       "      <th>3</th>\n",
       "      <td>Ooty</td>\n",
       "      <td>Nilgiri Tahr</td>\n",
       "    </tr>\n",
       "    <tr>\n",
       "      <th>2</th>\n",
       "      <td>Theni</td>\n",
       "      <td>Westernghats</td>\n",
       "    </tr>\n",
       "    <tr>\n",
       "      <th>0</th>\n",
       "      <td>Tirunelveli</td>\n",
       "      <td>Thamiraparani</td>\n",
       "    </tr>\n",
       "  </tbody>\n",
       "</table>\n",
       "</div>"
      ],
      "text/plain": [
       "    District Name  Special Things\n",
       "4        Dindukal  Palani Murugar\n",
       "1  Kanniya Kumari           Beach\n",
       "3            Ooty    Nilgiri Tahr\n",
       "2           Theni    Westernghats\n",
       "0     Tirunelveli   Thamiraparani"
      ]
     },
     "execution_count": 12,
     "metadata": {},
     "output_type": "execute_result"
    }
   ],
   "source": [
    "table.sort_values(by=['District Name'])"
   ]
  },
  {
   "cell_type": "markdown",
   "id": "29567d3f-8ac7-49d3-bf8a-7031f716e589",
   "metadata": {},
   "source": [
    "Geo Pandas"
   ]
  },
  {
   "cell_type": "code",
   "execution_count": 13,
   "id": "a8dc3854-d81f-4381-b49f-709d3ddfe5f0",
   "metadata": {},
   "outputs": [
    {
     "ename": "FileNotFoundError",
     "evalue": "[WinError 3] The system cannot find the path specified: 'D:\\\\Data for Process\\\\Sample Vector'",
     "output_type": "error",
     "traceback": [
      "\u001b[1;31m---------------------------------------------------------------------------\u001b[0m",
      "\u001b[1;31mFileNotFoundError\u001b[0m                         Traceback (most recent call last)",
      "Cell \u001b[1;32mIn[13], line 1\u001b[0m\n\u001b[1;32m----> 1\u001b[0m os\u001b[38;5;241m.\u001b[39mchdir(\u001b[38;5;124mr\u001b[39m\u001b[38;5;124m'\u001b[39m\u001b[38;5;124mD:\u001b[39m\u001b[38;5;124m\\\u001b[39m\u001b[38;5;124mData for Process\u001b[39m\u001b[38;5;124m\\\u001b[39m\u001b[38;5;124mSample Vector\u001b[39m\u001b[38;5;124m'\u001b[39m)\n",
      "\u001b[1;31mFileNotFoundError\u001b[0m: [WinError 3] The system cannot find the path specified: 'D:\\\\Data for Process\\\\Sample Vector'"
     ]
    }
   ],
   "source": [
    "os.chdir(r'D:\\Data for Process\\Sample Vector')"
   ]
  },
  {
   "cell_type": "code",
   "execution_count": null,
   "id": "922ceaf2-4c37-49e7-a395-3177b3436a48",
   "metadata": {},
   "outputs": [],
   "source": [
    "vector = gpd.read_file('Sample_Vector.shp')"
   ]
  },
  {
   "cell_type": "code",
   "execution_count": null,
   "id": "29b35db0-0713-41f6-bd7f-6d53d0adb9cc",
   "metadata": {},
   "outputs": [],
   "source": [
    "vector"
   ]
  },
  {
   "cell_type": "code",
   "execution_count": 33,
   "id": "4e3ee559-2c78-4def-8dc0-d6595edeb0e5",
   "metadata": {},
   "outputs": [
    {
     "data": {
      "text/plain": [
       "geopandas.geodataframe.GeoDataFrame"
      ]
     },
     "execution_count": 33,
     "metadata": {},
     "output_type": "execute_result"
    }
   ],
   "source": [
    "type(vector)"
   ]
  },
  {
   "cell_type": "code",
   "execution_count": 34,
   "id": "13290572-14c3-4150-b580-430d55195776",
   "metadata": {},
   "outputs": [
    {
     "data": {
      "text/plain": [
       "<Geographic 2D CRS: EPSG:4326>\n",
       "Name: WGS 84\n",
       "Axis Info [ellipsoidal]:\n",
       "- Lat[north]: Geodetic latitude (degree)\n",
       "- Lon[east]: Geodetic longitude (degree)\n",
       "Area of Use:\n",
       "- name: World.\n",
       "- bounds: (-180.0, -90.0, 180.0, 90.0)\n",
       "Datum: World Geodetic System 1984 ensemble\n",
       "- Ellipsoid: WGS 84\n",
       "- Prime Meridian: Greenwich"
      ]
     },
     "execution_count": 34,
     "metadata": {},
     "output_type": "execute_result"
    }
   ],
   "source": [
    "vector.crs"
   ]
  },
  {
   "cell_type": "code",
   "execution_count": 38,
   "id": "7e311d82-f4e0-4245-88d7-6e39eb7cbbe3",
   "metadata": {},
   "outputs": [
    {
     "data": {
      "text/plain": [
       "'geometry'"
      ]
     },
     "execution_count": 38,
     "metadata": {},
     "output_type": "execute_result"
    }
   ],
   "source": [
    "vector.geometry.name  #every geodataframe must has atleast one columns for geometry'''"
   ]
  },
  {
   "cell_type": "code",
   "execution_count": 39,
   "id": "5ff945aa-af1e-4415-974d-f9c899446807",
   "metadata": {},
   "outputs": [
    {
     "data": {
      "text/plain": [
       "<Axes: >"
      ]
     },
     "execution_count": 39,
     "metadata": {},
     "output_type": "execute_result"
    },
    {
     "data": {
      "image/png": "[encoded data removed]",
      "text/plain": [
       "<Figure size 1000x1000 with 1 Axes>"
      ]
     },
     "metadata": {},
     "output_type": "display_data"
    }
   ],
   "source": [
    "vector.plot(figsize = (10,10))"
   ]
  },
  {
   "cell_type": "code",
   "execution_count": 41,
   "id": "9c7f59a9-b3b4-4230-a612-284380209966",
   "metadata": {},
   "outputs": [
    {
     "ename": "AxisError",
     "evalue": "axis 1 is out of bounds for array of dimension 0",
     "output_type": "error",
     "traceback": [
      "\u001b[1;31m---------------------------------------------------------------------------\u001b[0m",
      "\u001b[1;31mAxisError\u001b[0m                                 Traceback (most recent call last)",
      "Cell \u001b[1;32mIn[41], line 1\u001b[0m\n\u001b[1;32m----> 1\u001b[0m vector\u001b[38;5;241m.\u001b[39mexplore(\u001b[38;5;124m'\u001b[39m\u001b[38;5;124mid\u001b[39m\u001b[38;5;124m'\u001b[39m,legend \u001b[38;5;241m=\u001b[39m \u001b[38;5;28;01mFalse\u001b[39;00m)\n",
      "File \u001b[1;32m~\\anaconda3\\envs\\geospatial\\Lib\\site-packages\\geopandas\\geodataframe.py:2113\u001b[0m, in \u001b[0;36mGeoDataFrame.explore\u001b[1;34m(self, *args, **kwargs)\u001b[0m\n\u001b[0;32m   2111\u001b[0m \u001b[38;5;129m@doc\u001b[39m(_explore)\n\u001b[0;32m   2112\u001b[0m \u001b[38;5;28;01mdef\u001b[39;00m \u001b[38;5;21mexplore\u001b[39m(\u001b[38;5;28mself\u001b[39m, \u001b[38;5;241m*\u001b[39margs, \u001b[38;5;241m*\u001b[39m\u001b[38;5;241m*\u001b[39mkwargs):\n\u001b[1;32m-> 2113\u001b[0m     \u001b[38;5;28;01mreturn\u001b[39;00m _explore(\u001b[38;5;28mself\u001b[39m, \u001b[38;5;241m*\u001b[39margs, \u001b[38;5;241m*\u001b[39m\u001b[38;5;241m*\u001b[39mkwargs)\n",
      "File \u001b[1;32m~\\anaconda3\\envs\\geospatial\\Lib\\site-packages\\geopandas\\explore.py:422\u001b[0m, in \u001b[0;36m_explore\u001b[1;34m(df, column, cmap, color, m, tiles, attr, tooltip, popup, highlight, categorical, legend, scheme, k, vmin, vmax, width, height, categories, classification_kwds, control_scale, marker_type, marker_kwds, style_kwds, highlight_kwds, missing_kwds, tooltip_kwds, popup_kwds, legend_kwds, map_kwds, **kwargs)\u001b[0m\n\u001b[0;32m    420\u001b[0m \u001b[38;5;66;03m# colormap exists in matplotlib\u001b[39;00m\n\u001b[0;32m    421\u001b[0m \u001b[38;5;28;01mif\u001b[39;00m cmap \u001b[38;5;129;01min\u001b[39;00m plt\u001b[38;5;241m.\u001b[39mcolormaps():\n\u001b[1;32m--> 422\u001b[0m     color \u001b[38;5;241m=\u001b[39m np\u001b[38;5;241m.\u001b[39mapply_along_axis(\n\u001b[0;32m    423\u001b[0m         colors\u001b[38;5;241m.\u001b[39mto_hex,\n\u001b[0;32m    424\u001b[0m         \u001b[38;5;241m1\u001b[39m,\n\u001b[0;32m    425\u001b[0m         _colormap_helper(cmap, n_resample\u001b[38;5;241m=\u001b[39mN, idx\u001b[38;5;241m=\u001b[39mcat\u001b[38;5;241m.\u001b[39mcodes),\n\u001b[0;32m    426\u001b[0m     )\n\u001b[0;32m    427\u001b[0m     legend_colors \u001b[38;5;241m=\u001b[39m np\u001b[38;5;241m.\u001b[39mapply_along_axis(\n\u001b[0;32m    428\u001b[0m         colors\u001b[38;5;241m.\u001b[39mto_hex, \u001b[38;5;241m1\u001b[39m, _colormap_helper(cmap, n_resample\u001b[38;5;241m=\u001b[39mN, idx\u001b[38;5;241m=\u001b[39m\u001b[38;5;28mrange\u001b[39m(N))\n\u001b[0;32m    429\u001b[0m     )\n\u001b[0;32m    431\u001b[0m \u001b[38;5;66;03m# colormap is matplotlib.Colormap\u001b[39;00m\n",
      "File \u001b[1;32m~\\anaconda3\\envs\\geospatial\\Lib\\site-packages\\numpy\\lib\\shape_base.py:361\u001b[0m, in \u001b[0;36mapply_along_axis\u001b[1;34m(func1d, axis, arr, *args, **kwargs)\u001b[0m\n\u001b[0;32m    359\u001b[0m arr \u001b[38;5;241m=\u001b[39m asanyarray(arr)\n\u001b[0;32m    360\u001b[0m nd \u001b[38;5;241m=\u001b[39m arr\u001b[38;5;241m.\u001b[39mndim\n\u001b[1;32m--> 361\u001b[0m axis \u001b[38;5;241m=\u001b[39m normalize_axis_index(axis, nd)\n\u001b[0;32m    363\u001b[0m \u001b[38;5;66;03m# arr, with the iteration axis at the end\u001b[39;00m\n\u001b[0;32m    364\u001b[0m in_dims \u001b[38;5;241m=\u001b[39m \u001b[38;5;28mlist\u001b[39m(\u001b[38;5;28mrange\u001b[39m(nd))\n",
      "\u001b[1;31mAxisError\u001b[0m: axis 1 is out of bounds for array of dimension 0"
     ]
    }
   ],
   "source": [
    "vector.explore('id',legend = False)"
   ]
  },
  {
   "cell_type": "code",
   "execution_count": null,
   "id": "b662e378-bb8b-46b0-9118-9e13f4cc6e8f",
   "metadata": {},
   "outputs": [],
   "source": []
  }
 ],
 "metadata": {
  "kernelspec": {
   "display_name": "Python 3 (ipykernel)",
   "language": "python",
   "name": "python3"
  },
  "language_info": {
   "codemirror_mode": {
    "name": "ipython",
    "version": 3
   },
   "file_extension": ".py",
   "mimetype": "text/x-python",
   "name": "python",
   "nbconvert_exporter": "python",
   "pygments_lexer": "ipython3",
   "version": "3.11.5"
  }
 },
 "nbformat": 4,
 "nbformat_minor": 5
}
