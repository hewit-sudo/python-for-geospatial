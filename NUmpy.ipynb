{
 "cells": [
  {
   "cell_type": "code",
   "execution_count": 1,
   "id": "4b642cef-960a-41e5-8e9e-fd0e57878fcc",
   "metadata": {},
   "outputs": [],
   "source": [
    "import os\n",
    "os.chdir(r'D:\\Geospatial Data\\Data\\Liss3python\\Band_4')"
   ]
  },
  {
   "cell_type": "code",
   "execution_count": 2,
   "id": "69346986-af6d-4431-8a21-1d7a6b21b87b",
   "metadata": {},
   "outputs": [],
   "source": [
    "def dip(image_name):\n",
    "    from osgeo import gdal\n",
    "    import numpy as np\n",
    "    from matplotlib import pyplot as plt\n",
    "    a = gdal.Open(image_name)\n",
    "    b = a.ReadAsArray()\n",
    "    plt.imshow(b, cmap = 'gray')\n",
    "    print('No of Rows and Columns : ',a.RasterXSize, a.RasterYSize)\n",
    "    print(a.GetGeoTransform())"
   ]
  },
  {
   "cell_type": "code",
   "execution_count": 3,
   "id": "8d32c74e-bd59-4511-9621-02589a4fede4",
   "metadata": {},
   "outputs": [],
   "source": [
    "bands = ('a.tif','b.tif','c.tif','d.tif','e.tif','f.tif','g.tif','h.tif','i.tif')"
   ]
  },
  {
   "cell_type": "code",
   "execution_count": 4,
   "id": "f06e7b75-c485-4692-9ad0-5409fef17139",
   "metadata": {},
   "outputs": [
    {
     "ename": "ModuleNotFoundError",
     "evalue": "No module named 'osgeo'",
     "output_type": "error",
     "traceback": [
      "\u001b[1;31m---------------------------------------------------------------------------\u001b[0m",
      "\u001b[1;31mModuleNotFoundError\u001b[0m                       Traceback (most recent call last)",
      "Cell \u001b[1;32mIn[4], line 1\u001b[0m\n\u001b[1;32m----> 1\u001b[0m dip(\u001b[38;5;124m'\u001b[39m\u001b[38;5;124mb.tif\u001b[39m\u001b[38;5;124m'\u001b[39m)\n",
      "Cell \u001b[1;32mIn[2], line 2\u001b[0m, in \u001b[0;36mdip\u001b[1;34m(image_name)\u001b[0m\n\u001b[0;32m      1\u001b[0m \u001b[38;5;28;01mdef\u001b[39;00m \u001b[38;5;21mdip\u001b[39m(image_name):\n\u001b[1;32m----> 2\u001b[0m     \u001b[38;5;28;01mfrom\u001b[39;00m \u001b[38;5;21;01mosgeo\u001b[39;00m \u001b[38;5;28;01mimport\u001b[39;00m gdal\n\u001b[0;32m      3\u001b[0m     \u001b[38;5;28;01mimport\u001b[39;00m \u001b[38;5;21;01mnumpy\u001b[39;00m \u001b[38;5;28;01mas\u001b[39;00m \u001b[38;5;21;01mnp\u001b[39;00m\n\u001b[0;32m      4\u001b[0m     \u001b[38;5;28;01mfrom\u001b[39;00m \u001b[38;5;21;01mmatplotlib\u001b[39;00m \u001b[38;5;28;01mimport\u001b[39;00m pyplot \u001b[38;5;28;01mas\u001b[39;00m plt\n",
      "\u001b[1;31mModuleNotFoundError\u001b[0m: No module named 'osgeo'"
     ]
    }
   ],
   "source": [
    "dip('b.tif')"
   ]
  },
  {
   "cell_type": "code",
   "execution_count": 5,
   "id": "1c8a19cf-1f99-46e7-8062-4a59f18b877c",
   "metadata": {},
   "outputs": [],
   "source": [
    "import numpy as np"
   ]
  },
  {
   "cell_type": "code",
   "execution_count": 6,
   "id": "502d6909-82f8-4688-b300-9fafca2716fc",
   "metadata": {},
   "outputs": [],
   "source": [
    "a = np.arange(9)"
   ]
  },
  {
   "cell_type": "code",
   "execution_count": 7,
   "id": "259b6e66-b1b2-4f69-b659-0a21c844f52c",
   "metadata": {},
   "outputs": [
    {
     "data": {
      "text/plain": [
       "array([0, 1, 2, 3, 4, 5, 6, 7, 8])"
      ]
     },
     "execution_count": 7,
     "metadata": {},
     "output_type": "execute_result"
    }
   ],
   "source": [
    "a"
   ]
  },
  {
   "cell_type": "code",
   "execution_count": 8,
   "id": "46f6f5cb-3f34-44c0-a287-4408121a8960",
   "metadata": {},
   "outputs": [
    {
     "data": {
      "text/plain": [
       "array([ 1,  3,  3,  2, 12,  3,  2,  1,  1,  3])"
      ]
     },
     "execution_count": 8,
     "metadata": {},
     "output_type": "execute_result"
    }
   ],
   "source": [
    "np.array([1,3,3,2,12,3,2,1,1,3])"
   ]
  },
  {
   "cell_type": "code",
   "execution_count": 9,
   "id": "c869ae19-176f-4778-a9e1-138e05c2f3f2",
   "metadata": {},
   "outputs": [
    {
     "data": {
      "text/plain": [
       "array([0., 0., 0., 0.])"
      ]
     },
     "execution_count": 9,
     "metadata": {},
     "output_type": "execute_result"
    }
   ],
   "source": [
    "np.zeros(4) "
   ]
  },
  {
   "cell_type": "code",
   "execution_count": 10,
   "id": "b7774e56-698b-4131-b52b-dc906058150f",
   "metadata": {},
   "outputs": [
    {
     "data": {
      "text/plain": [
       "array([0, 0, 0, 0])"
      ]
     },
     "execution_count": 10,
     "metadata": {},
     "output_type": "execute_result"
    }
   ],
   "source": [
    "np.zeros(4, int) "
   ]
  },
  {
   "cell_type": "code",
   "execution_count": 11,
   "id": "acf7ce8a-2c38-415c-9584-7e2492cd582e",
   "metadata": {},
   "outputs": [
    {
     "data": {
      "text/plain": [
       "array([0.5, 0.6, 0.7, 0.8])"
      ]
     },
     "execution_count": 11,
     "metadata": {},
     "output_type": "execute_result"
    }
   ],
   "source": [
    "np.arange(.5,.8,.1)"
   ]
  },
  {
   "cell_type": "code",
   "execution_count": 12,
   "id": "fd823897-20e2-4aa9-8428-c18bd13b25eb",
   "metadata": {},
   "outputs": [
    {
     "data": {
      "text/plain": [
       "array([0, 1, 2, 3, 4, 5, 6, 7, 8, 9])"
      ]
     },
     "execution_count": 12,
     "metadata": {},
     "output_type": "execute_result"
    }
   ],
   "source": [
    "np.arange(10)"
   ]
  },
  {
   "cell_type": "markdown",
   "id": "6f332414-53f8-4ff3-9710-afcef2cceb55",
   "metadata": {},
   "source": [
    "np.arange function"
   ]
  },
  {
   "cell_type": "code",
   "execution_count": 13,
   "id": "8d88409f-8641-4dae-9289-9f7359c68e43",
   "metadata": {},
   "outputs": [
    {
     "data": {
      "text/plain": [
       "array([2, 3, 4, 5, 6, 7, 8, 9])"
      ]
     },
     "execution_count": 13,
     "metadata": {},
     "output_type": "execute_result"
    }
   ],
   "source": [
    "np.arange(2,10)"
   ]
  },
  {
   "cell_type": "code",
   "execution_count": 14,
   "id": "92c1f848-0a0e-44cc-b7ef-33f25e7f3621",
   "metadata": {},
   "outputs": [
    {
     "data": {
      "text/plain": [
       "array([2, 3, 4, 5, 6, 7, 8, 9])"
      ]
     },
     "execution_count": 14,
     "metadata": {},
     "output_type": "execute_result"
    }
   ],
   "source": [
    "np.arange(2,10,1)"
   ]
  },
  {
   "cell_type": "markdown",
   "id": "e8c893ad-aa15-4158-966a-bf488feb1e20",
   "metadata": {},
   "source": [
    "np.linspace"
   ]
  },
  {
   "cell_type": "code",
   "execution_count": 16,
   "id": "76704d0a-3bc1-4487-afa4-86c0667d8c29",
   "metadata": {},
   "outputs": [
    {
     "data": {
      "text/plain": [
       "array([1.        , 1.02040816, 1.04081633, 1.06122449, 1.08163265,\n",
       "       1.10204082, 1.12244898, 1.14285714, 1.16326531, 1.18367347,\n",
       "       1.20408163, 1.2244898 , 1.24489796, 1.26530612, 1.28571429,\n",
       "       1.30612245, 1.32653061, 1.34693878, 1.36734694, 1.3877551 ,\n",
       "       1.40816327, 1.42857143, 1.44897959, 1.46938776, 1.48979592,\n",
       "       1.51020408, 1.53061224, 1.55102041, 1.57142857, 1.59183673,\n",
       "       1.6122449 , 1.63265306, 1.65306122, 1.67346939, 1.69387755,\n",
       "       1.71428571, 1.73469388, 1.75510204, 1.7755102 , 1.79591837,\n",
       "       1.81632653, 1.83673469, 1.85714286, 1.87755102, 1.89795918,\n",
       "       1.91836735, 1.93877551, 1.95918367, 1.97959184, 2.        ])"
      ]
     },
     "execution_count": 16,
     "metadata": {},
     "output_type": "execute_result"
    }
   ],
   "source": [
    "np.linspace(1,2)"
   ]
  },
  {
   "cell_type": "code",
   "execution_count": 17,
   "id": "28958988-7c50-43ef-a45d-420873e1b699",
   "metadata": {},
   "outputs": [
    {
     "data": {
      "text/plain": [
       "50"
      ]
     },
     "execution_count": 17,
     "metadata": {},
     "output_type": "execute_result"
    }
   ],
   "source": [
    "len(np.linspace(1,10))"
   ]
  },
  {
   "cell_type": "code",
   "execution_count": 18,
   "id": "67d668cd-0534-4245-898f-e59d22dda37a",
   "metadata": {},
   "outputs": [
    {
     "data": {
      "text/plain": [
       "array([ 1.  ,  6.25, 11.5 , 16.75, 22.  ])"
      ]
     },
     "execution_count": 18,
     "metadata": {},
     "output_type": "execute_result"
    }
   ],
   "source": [
    "np.linspace(1,22,5)"
   ]
  },
  {
   "cell_type": "markdown",
   "id": "761b426a-da9b-42f0-b0b6-ba22885ea4dc",
   "metadata": {},
   "source": [
    "np.random----------randint"
   ]
  },
  {
   "cell_type": "code",
   "execution_count": 18,
   "id": "8d5b9314-9f73-4ed0-8711-5bae0a249960",
   "metadata": {},
   "outputs": [
    {
     "data": {
      "text/plain": [
       "3"
      ]
     },
     "execution_count": 18,
     "metadata": {},
     "output_type": "execute_result"
    }
   ],
   "source": [
    "np.random.randint(9)"
   ]
  },
  {
   "cell_type": "code",
   "execution_count": 19,
   "id": "e8c5914a-db77-4449-95b7-193b404a8435",
   "metadata": {},
   "outputs": [
    {
     "data": {
      "text/plain": [
       "array([3, 3, 3, 1, 4, 2, 1, 2, 3, 4])"
      ]
     },
     "execution_count": 19,
     "metadata": {},
     "output_type": "execute_result"
    }
   ],
   "source": [
    "np.random.randint(1,5,10) #[0,5)"
   ]
  },
  {
   "cell_type": "code",
   "execution_count": 20,
   "id": "0e29c692-be99-4d56-8f2f-c7ebd9eeee5b",
   "metadata": {},
   "outputs": [
    {
     "data": {
      "text/plain": [
       "3"
      ]
     },
     "execution_count": 20,
     "metadata": {},
     "output_type": "execute_result"
    }
   ],
   "source": [
    "np.random.randint(1,5)"
   ]
  },
  {
   "cell_type": "markdown",
   "id": "d70d268f-c30d-4ada-97d7-08a06c9352f7",
   "metadata": {},
   "source": [
    "np.random----------rand (it give the values only between [0,1))"
   ]
  },
  {
   "cell_type": "code",
   "execution_count": 19,
   "id": "3db4841a-41ea-4ee0-b4b8-3ac5f7579999",
   "metadata": {},
   "outputs": [
    {
     "data": {
      "text/plain": [
       "array([[[0.52334236, 0.76392479, 0.47617292],\n",
       "        [0.27064505, 0.52790347, 0.79113344],\n",
       "        [0.93693848, 0.46318118, 0.02440154]],\n",
       "\n",
       "       [[0.78432395, 0.23207096, 0.77448522],\n",
       "        [0.70452778, 0.61444448, 0.01390862],\n",
       "        [0.76342258, 0.4598567 , 0.35050134]]])"
      ]
     },
     "execution_count": 19,
     "metadata": {},
     "output_type": "execute_result"
    }
   ],
   "source": [
    "np.random.rand(2,3,3) #3 dimensional"
   ]
  },
  {
   "cell_type": "markdown",
   "id": "e3b0347a-1665-4424-a20d-a0f97c9e1377",
   "metadata": {},
   "source": [
    "np.randn"
   ]
  },
  {
   "cell_type": "code",
   "execution_count": 20,
   "id": "b5817286-892a-48b6-8db4-dcc2ec19f62d",
   "metadata": {},
   "outputs": [
    {
     "data": {
      "text/plain": [
       "array([[[ 0.09846837, -1.12315819,  1.06076085, -1.57651404,\n",
       "         -0.51722739, -0.4445875 ,  0.801669  , -0.53570024,\n",
       "          0.78745667,  0.23216713],\n",
       "        [ 0.86264503,  0.90414   ,  0.50577643, -0.73350002,\n",
       "         -1.92004895, -1.62366977,  0.27298065,  2.27297778,\n",
       "         -1.44388916, -1.89485372],\n",
       "        [ 0.80144224,  0.990959  , -0.51762648,  0.84052588,\n",
       "          0.62846303,  0.89337449, -0.17250223, -0.21305048,\n",
       "          1.84450479,  0.37704242]],\n",
       "\n",
       "       [[-0.52146447, -0.44553585,  0.18617442,  0.48045886,\n",
       "         -0.33886022,  0.73554444, -1.66376627, -0.6320703 ,\n",
       "          0.92353459, -0.76921992],\n",
       "        [ 0.20115825, -1.12921506, -0.51080748,  0.39837618,\n",
       "         -1.71377428,  1.34190583, -1.398898  ,  0.73199654,\n",
       "         -3.48591167,  1.07961578],\n",
       "        [ 1.15295887, -0.01708893,  2.55736205,  1.2137011 ,\n",
       "         -0.79563614,  1.30077458, -1.32211373,  0.3915022 ,\n",
       "         -1.79678207, -0.46027978]]])"
      ]
     },
     "execution_count": 20,
     "metadata": {},
     "output_type": "execute_result"
    }
   ],
   "source": [
    "np.random.randn(2,3,10)"
   ]
  },
  {
   "cell_type": "code",
   "execution_count": 23,
   "id": "fe960e4d-5757-486c-ae68-11bcae909080",
   "metadata": {},
   "outputs": [
    {
     "data": {
      "text/plain": [
       "array([1., 3., 5., 7., 9.])"
      ]
     },
     "execution_count": 23,
     "metadata": {},
     "output_type": "execute_result"
    }
   ],
   "source": [
    "np.linspace(1,9,5)  #it give the float only"
   ]
  },
  {
   "cell_type": "code",
   "execution_count": 24,
   "id": "d2cb99a2-c2cc-4059-b2e0-69f5658178b5",
   "metadata": {},
   "outputs": [],
   "source": [
    "hl = np.linspace(1,9,5).astype(int) #it give the integer if we use the astype"
   ]
  },
  {
   "cell_type": "code",
   "execution_count": 36,
   "id": "ae470a00-beb9-494f-8170-7938cc54032d",
   "metadata": {},
   "outputs": [
    {
     "data": {
      "text/plain": [
       "array([1, 3, 5, 7, 9])"
      ]
     },
     "execution_count": 36,
     "metadata": {},
     "output_type": "execute_result"
    }
   ],
   "source": [
    "hl"
   ]
  },
  {
   "cell_type": "code",
   "execution_count": 37,
   "id": "58540a3e-1de6-44c9-a974-df419794c5fa",
   "metadata": {},
   "outputs": [
    {
     "data": {
      "text/plain": [
       "True"
      ]
     },
     "execution_count": 37,
     "metadata": {},
     "output_type": "execute_result"
    }
   ],
   "source": [
    "np.any(hl>2) "
   ]
  },
  {
   "cell_type": "code",
   "execution_count": 38,
   "id": "f07245a6-1c2f-48f8-8ab6-f54d66f6f3cf",
   "metadata": {},
   "outputs": [
    {
     "data": {
      "text/plain": [
       "array([3, 5, 7, 9])"
      ]
     },
     "execution_count": 38,
     "metadata": {},
     "output_type": "execute_result"
    }
   ],
   "source": [
    "hl[hl>2]"
   ]
  },
  {
   "cell_type": "code",
   "execution_count": 39,
   "id": "d4fdb919-064a-49b8-af90-356dc0baf8b0",
   "metadata": {},
   "outputs": [
    {
     "data": {
      "text/plain": [
       "(array([3, 4], dtype=int64),)"
      ]
     },
     "execution_count": 39,
     "metadata": {},
     "output_type": "execute_result"
    }
   ],
   "source": [
    "np.where(hl>5)  #the output is the positional value of the elements which are satisfying the condition"
   ]
  },
  {
   "cell_type": "code",
   "execution_count": 40,
   "id": "f3ac119a-7cb5-4137-bcb5-e469de65b798",
   "metadata": {},
   "outputs": [
    {
     "data": {
      "text/plain": [
       "False"
      ]
     },
     "execution_count": 40,
     "metadata": {},
     "output_type": "execute_result"
    }
   ],
   "source": [
    "np.all(hl>5)  #checking wether all elements are greater than the 5"
   ]
  },
  {
   "cell_type": "code",
   "execution_count": 41,
   "id": "af7f00ee-e50b-4e7c-b510-ad4690d68294",
   "metadata": {},
   "outputs": [
    {
     "data": {
      "text/plain": [
       "(array([3, 4], dtype=int64),)"
      ]
     },
     "execution_count": 41,
     "metadata": {},
     "output_type": "execute_result"
    }
   ],
   "source": [
    "np.nonzero(hl>5) #similar to np.where"
   ]
  },
  {
   "cell_type": "code",
   "execution_count": 42,
   "id": "23a0950a-7c2a-47ad-ad31-974558ffc89b",
   "metadata": {},
   "outputs": [],
   "source": [
    "lh = np.array([0.2,23.2,32,0,0,0,.3,.00023])"
   ]
  },
  {
   "cell_type": "code",
   "execution_count": 43,
   "id": "a2a8c1d9-b091-411a-b6b1-a2378dd00fbf",
   "metadata": {},
   "outputs": [
    {
     "data": {
      "text/plain": [
       "array([2.00e-01, 2.32e+01, 3.20e+01, 0.00e+00, 0.00e+00, 0.00e+00,\n",
       "       3.00e-01, 2.30e-04])"
      ]
     },
     "execution_count": 43,
     "metadata": {},
     "output_type": "execute_result"
    }
   ],
   "source": [
    "lh"
   ]
  },
  {
   "cell_type": "code",
   "execution_count": 44,
   "id": "77297a2f-d6e9-40a3-be7d-178d9851070b",
   "metadata": {},
   "outputs": [
    {
     "data": {
      "text/plain": [
       "(array([0, 1, 2, 6, 7], dtype=int64),)"
      ]
     },
     "execution_count": 44,
     "metadata": {},
     "output_type": "execute_result"
    }
   ],
   "source": [
    "np.nonzero(lh) #print the non zero values position"
   ]
  },
  {
   "cell_type": "code",
   "execution_count": 45,
   "id": "6dbdfa27-4392-4dd7-905b-c69425e4fbfd",
   "metadata": {},
   "outputs": [
    {
     "name": "stdout",
     "output_type": "stream",
     "text": [
      "[1 3 5 7 9]\n"
     ]
    }
   ],
   "source": [
    "print(hl)"
   ]
  },
  {
   "cell_type": "code",
   "execution_count": 46,
   "id": "b1ce825e-56bc-49b9-8392-1442e713daef",
   "metadata": {},
   "outputs": [
    {
     "data": {
      "text/plain": [
       "array([2, 3, 5, 6, 6])"
      ]
     },
     "execution_count": 46,
     "metadata": {},
     "output_type": "execute_result"
    }
   ],
   "source": [
    "np.clip(hl,2,6)"
   ]
  },
  {
   "cell_type": "code",
   "execution_count": 47,
   "id": "2ff2b8f0-d655-4489-93f3-f82538aa80c0",
   "metadata": {},
   "outputs": [
    {
     "data": {
      "text/plain": [
       "array([2.72712575, 2.37453879, 1.99137007, 1.71156191, 1.86337315])"
      ]
     },
     "execution_count": 47,
     "metadata": {},
     "output_type": "execute_result"
    }
   ],
   "source": [
    "np.random.uniform(1,3,5)"
   ]
  },
  {
   "cell_type": "code",
   "execution_count": 48,
   "id": "65d7cf53-0349-48e7-8db7-e4859bd4fafc",
   "metadata": {},
   "outputs": [],
   "source": [
    "ar1 = np.arange(3)"
   ]
  },
  {
   "cell_type": "code",
   "execution_count": 49,
   "id": "13c44fac-06ac-4127-97f6-a6628abb9e7a",
   "metadata": {},
   "outputs": [],
   "source": [
    "ar2 = np.linspace(10,100,3).astype(int)"
   ]
  },
  {
   "cell_type": "code",
   "execution_count": 50,
   "id": "6ee44782-f7b1-4be6-848a-417627791a67",
   "metadata": {},
   "outputs": [
    {
     "data": {
      "text/plain": [
       "(array([0, 1, 2]), array([ 10,  55, 100]))"
      ]
     },
     "execution_count": 50,
     "metadata": {},
     "output_type": "execute_result"
    }
   ],
   "source": [
    "ar1, ar2"
   ]
  },
  {
   "cell_type": "code",
   "execution_count": 51,
   "id": "98e90aa6-938b-4652-9021-5722142df6ef",
   "metadata": {},
   "outputs": [
    {
     "data": {
      "text/plain": [
       "255"
      ]
     },
     "execution_count": 51,
     "metadata": {},
     "output_type": "execute_result"
    }
   ],
   "source": [
    "ar1 @ ar2"
   ]
  },
  {
   "cell_type": "code",
   "execution_count": 52,
   "id": "f60944a7-fe7f-441a-b317-5c0d1f6de34d",
   "metadata": {},
   "outputs": [
    {
     "ename": "ModuleNotFoundError",
     "evalue": "No module named 'osgeo'",
     "output_type": "error",
     "traceback": [
      "\u001b[1;31m---------------------------------------------------------------------------\u001b[0m",
      "\u001b[1;31mModuleNotFoundError\u001b[0m                       Traceback (most recent call last)",
      "Cell \u001b[1;32mIn[52], line 1\u001b[0m\n\u001b[1;32m----> 1\u001b[0m \u001b[38;5;28;01mfrom\u001b[39;00m \u001b[38;5;21;01mosgeo\u001b[39;00m \u001b[38;5;28;01mimport\u001b[39;00m gdal\n\u001b[0;32m      2\u001b[0m \u001b[38;5;28;01mfrom\u001b[39;00m \u001b[38;5;21;01mmatplotlib\u001b[39;00m \u001b[38;5;28;01mimport\u001b[39;00m pyplot \u001b[38;5;28;01mas\u001b[39;00m plt\n\u001b[0;32m      3\u001b[0m im \u001b[38;5;241m=\u001b[39m gdal\u001b[38;5;241m.\u001b[39mOpen(\u001b[38;5;124m'\u001b[39m\u001b[38;5;124ma.tif\u001b[39m\u001b[38;5;124m'\u001b[39m)\n",
      "\u001b[1;31mModuleNotFoundError\u001b[0m: No module named 'osgeo'"
     ]
    }
   ],
   "source": [
    "from osgeo import gdal\n",
    "from matplotlib import pyplot as plt\n",
    "im = gdal.Open('a.tif')"
   ]
  },
  {
   "cell_type": "code",
   "execution_count": 53,
   "id": "64bc42a2-b1e8-4928-beaf-aa1cbf7e0c7c",
   "metadata": {},
   "outputs": [
    {
     "ename": "NameError",
     "evalue": "name 'im' is not defined",
     "output_type": "error",
     "traceback": [
      "\u001b[1;31m---------------------------------------------------------------------------\u001b[0m",
      "\u001b[1;31mNameError\u001b[0m                                 Traceback (most recent call last)",
      "Cell \u001b[1;32mIn[53], line 1\u001b[0m\n\u001b[1;32m----> 1\u001b[0m img \u001b[38;5;241m=\u001b[39m im\u001b[38;5;241m.\u001b[39mReadAsArray()\n",
      "\u001b[1;31mNameError\u001b[0m: name 'im' is not defined"
     ]
    }
   ],
   "source": [
    "img = im.ReadAsArray()"
   ]
  },
  {
   "cell_type": "code",
   "execution_count": 49,
   "id": "63548c5f-b40c-45c9-a291-b1e678be5bb8",
   "metadata": {},
   "outputs": [
    {
     "data": {
      "text/plain": [
       "numpy.ndarray"
      ]
     },
     "execution_count": 49,
     "metadata": {},
     "output_type": "execute_result"
    }
   ],
   "source": [
    "type(img)"
   ]
  },
  {
   "cell_type": "code",
   "execution_count": 50,
   "id": "85cfc35e-3082-4a89-9114-bcc18eb3c42b",
   "metadata": {},
   "outputs": [
    {
     "data": {
      "text/plain": [
       "array([[ 39,  40,  40, ..., 153, 150, 150],\n",
       "       [ 39,  40,  41, ..., 146, 148, 152],\n",
       "       [ 39,  40,  39, ..., 140, 147, 153],\n",
       "       ...,\n",
       "       [133, 134, 152, ..., 158, 169, 197],\n",
       "       [156, 134, 154, ..., 173, 172, 171],\n",
       "       [155, 123, 137, ..., 177, 170, 157]], dtype=uint16)"
      ]
     },
     "execution_count": 50,
     "metadata": {},
     "output_type": "execute_result"
    }
   ],
   "source": [
    "img"
   ]
  },
  {
   "cell_type": "code",
   "execution_count": 83,
   "id": "e28e836e-4e62-4027-8b0f-d595da4c24f9",
   "metadata": {},
   "outputs": [
    {
     "data": {
      "text/plain": [
       "<matplotlib.image.AxesImage at 0x18c8969bd90>"
      ]
     },
     "execution_count": 83,
     "metadata": {},
     "output_type": "execute_result"
    },
    {
     "data": {
      "image/png": "[encoded data removed]",
      "text/plain": [
       "<Figure size 640x480 with 1 Axes>"
      ]
     },
     "metadata": {},
     "output_type": "display_data"
    }
   ],
   "source": [
    "plt.imshow(img[500:,500:],cmap = 'gray')"
   ]
  },
  {
   "cell_type": "code",
   "execution_count": 78,
   "id": "e7f0563e-3326-47a2-bd11-0b28c58f2c3e",
   "metadata": {},
   "outputs": [
    {
     "data": {
      "text/plain": [
       "(651, 651)"
      ]
     },
     "execution_count": 78,
     "metadata": {},
     "output_type": "execute_result"
    }
   ],
   "source": [
    "(img[500:,500:]).shape"
   ]
  },
  {
   "cell_type": "code",
   "execution_count": 66,
   "id": "9e944c6d-3370-4cf2-a408-ee5af0405e9a",
   "metadata": {},
   "outputs": [
    {
     "data": {
      "text/plain": [
       "1151"
      ]
     },
     "execution_count": 66,
     "metadata": {},
     "output_type": "execute_result"
    }
   ],
   "source": [
    "len(img[:,1])"
   ]
  },
  {
   "cell_type": "code",
   "execution_count": 54,
   "id": "8b86817a-ec78-486e-8a7f-1dd8e2babb21",
   "metadata": {},
   "outputs": [
    {
     "ename": "NameError",
     "evalue": "name 'plt' is not defined",
     "output_type": "error",
     "traceback": [
      "\u001b[1;31m---------------------------------------------------------------------------\u001b[0m",
      "\u001b[1;31mNameError\u001b[0m                                 Traceback (most recent call last)",
      "Cell \u001b[1;32mIn[54], line 1\u001b[0m\n\u001b[1;32m----> 1\u001b[0m plt\u001b[38;5;241m.\u001b[39mhist(img[\u001b[38;5;241m5\u001b[39m:,\u001b[38;5;241m5\u001b[39m:])\n\u001b[0;32m      2\u001b[0m plt\u001b[38;5;241m.\u001b[39mshow()\n",
      "\u001b[1;31mNameError\u001b[0m: name 'plt' is not defined"
     ]
    }
   ],
   "source": [
    "plt.hist(img[5:,5:])\n",
    "plt.show()"
   ]
  },
  {
   "cell_type": "code",
   "execution_count": null,
   "id": "084347d7",
   "metadata": {},
   "outputs": [],
   "source": []
  },
  {
   "cell_type": "code",
   "execution_count": null,
   "id": "1d1da95b-b4cc-4667-a0f2-c6027abb6d5b",
   "metadata": {},
   "outputs": [],
   "source": []
  },
  {
   "cell_type": "markdown",
   "id": "79a87603",
   "metadata": {},
   "source": [
    "# Indexing"
   ]
  },
  {
   "cell_type": "code",
   "execution_count": 79,
   "id": "5ea480a9",
   "metadata": {},
   "outputs": [],
   "source": [
    "import numpy as np"
   ]
  },
  {
   "cell_type": "code",
   "execution_count": 80,
   "id": "fa210fd1",
   "metadata": {},
   "outputs": [
    {
     "data": {
      "text/plain": [
       "array([0.5])"
      ]
     },
     "execution_count": 80,
     "metadata": {},
     "output_type": "execute_result"
    }
   ],
   "source": [
    "np.arange(0.5,0.8,)"
   ]
  },
  {
   "cell_type": "code",
   "execution_count": null,
   "id": "cc1c8a12",
   "metadata": {},
   "outputs": [],
   "source": []
  },
  {
   "cell_type": "code",
   "execution_count": null,
   "id": "6829149c",
   "metadata": {},
   "outputs": [],
   "source": []
  },
  {
   "cell_type": "code",
   "execution_count": null,
   "id": "4d451b72",
   "metadata": {},
   "outputs": [],
   "source": []
  },
  {
   "cell_type": "code",
   "execution_count": null,
   "id": "8e439e47",
   "metadata": {},
   "outputs": [],
   "source": []
  },
  {
   "cell_type": "code",
   "execution_count": 88,
   "id": "0909d13d",
   "metadata": {},
   "outputs": [
    {
     "data": {
      "text/plain": [
       "array([[0, 0, 0, 0, 0, 0, 0, 0],\n",
       "       [0, 0, 0, 0, 0, 1, 1, 1],\n",
       "       [1, 1, 1, 1, 1, 1, 1, 1],\n",
       "       [1, 1, 2, 2, 2, 2, 2, 2],\n",
       "       [2, 2, 2, 2, 2, 2, 3, 3],\n",
       "       [3, 3, 3, 3, 3, 3, 3, 3],\n",
       "       [3, 3, 3, 4, 4, 4, 4, 4],\n",
       "       [4, 4, 4, 4, 4, 4, 4, 5]])"
      ]
     },
     "execution_count": 88,
     "metadata": {},
     "output_type": "execute_result"
    }
   ],
   "source": [
    "arr = np.linspace(0,5,64,dtype = int).reshape(8,8)\n",
    "arr"
   ]
  },
  {
   "cell_type": "code",
   "execution_count": 115,
   "id": "0d26b3f9",
   "metadata": {},
   "outputs": [],
   "source": [
    "arr1 = np.random.randint(5,150,81,dtype = int).reshape(9,9)"
   ]
  },
  {
   "cell_type": "code",
   "execution_count": 116,
   "id": "7602f1e4",
   "metadata": {},
   "outputs": [
    {
     "name": "stdout",
     "output_type": "stream",
     "text": [
      "[[ 14  40  22  58  50 134  25 116  87]\n",
      " [143 116 146 109   9  83  39 148 109]\n",
      " [  7 105 106 124  21   8  68 123  72]\n",
      " [ 39 113  40  83  60  97  32  81  47]\n",
      " [ 76  95  57  27 100 149  92  45  73]\n",
      " [ 31 144  35 103  99  30  59  45 129]\n",
      " [104  35  25 119  35  46  95 148  61]\n",
      " [ 29 127  21 117 116  62  54  61  81]\n",
      " [ 98  84  59 110 109  15  48 114  17]]\n"
     ]
    }
   ],
   "source": [
    "print(arr1)"
   ]
  },
  {
   "cell_type": "code",
   "execution_count": 117,
   "id": "0bb9518e",
   "metadata": {},
   "outputs": [
    {
     "data": {
      "text/plain": [
       "array([ 14,  40,  22,  58,  50, 134,  25, 116,  87])"
      ]
     },
     "execution_count": 117,
     "metadata": {},
     "output_type": "execute_result"
    }
   ],
   "source": [
    "arr1[0] #row"
   ]
  },
  {
   "cell_type": "code",
   "execution_count": 118,
   "id": "f15062a8",
   "metadata": {},
   "outputs": [
    {
     "data": {
      "text/plain": [
       "array([ 14, 143,   7,  39,  76,  31, 104,  29,  98])"
      ]
     },
     "execution_count": 118,
     "metadata": {},
     "output_type": "execute_result"
    }
   ],
   "source": [
    "arr1[:,0] #column"
   ]
  },
  {
   "cell_type": "code",
   "execution_count": 129,
   "id": "b546fd17",
   "metadata": {},
   "outputs": [
    {
     "data": {
      "text/plain": [
       "array([[116, 146, 109,   9]])"
      ]
     },
     "execution_count": 129,
     "metadata": {},
     "output_type": "execute_result"
    }
   ],
   "source": [
    "arr1[1:3:2,1:5:1]"
   ]
  },
  {
   "cell_type": "code",
   "execution_count": 83,
   "id": "dc3dc6c2",
   "metadata": {},
   "outputs": [
    {
     "data": {
      "text/plain": [
       "array([ 0, 10, 20, 30, 40, 50, 60, 70, 80, 90])"
      ]
     },
     "execution_count": 83,
     "metadata": {},
     "output_type": "execute_result"
    }
   ],
   "source": [
    "arr[0]"
   ]
  },
  {
   "cell_type": "code",
   "execution_count": 86,
   "id": "ce63ea05",
   "metadata": {},
   "outputs": [
    {
     "data": {
      "text/plain": [
       "array([101, 111, 121, 131, 141, 151, 161, 171, 181, 191])"
      ]
     },
     "execution_count": 86,
     "metadata": {},
     "output_type": "execute_result"
    }
   ],
   "source": [
    "arr[1]"
   ]
  },
  {
   "cell_type": "code",
   "execution_count": null,
   "id": "ee128e61",
   "metadata": {},
   "outputs": [],
   "source": []
  },
  {
   "cell_type": "code",
   "execution_count": null,
   "id": "b3f13b42",
   "metadata": {},
   "outputs": [],
   "source": []
  },
  {
   "cell_type": "code",
   "execution_count": null,
   "id": "b0a4bd75",
   "metadata": {},
   "outputs": [],
   "source": []
  },
  {
   "cell_type": "code",
   "execution_count": null,
   "id": "2a5d8372",
   "metadata": {},
   "outputs": [],
   "source": []
  },
  {
   "cell_type": "code",
   "execution_count": null,
   "id": "1accdf66",
   "metadata": {},
   "outputs": [],
   "source": []
  },
  {
   "cell_type": "code",
   "execution_count": null,
   "id": "b275dd46",
   "metadata": {},
   "outputs": [],
   "source": []
  },
  {
   "cell_type": "code",
   "execution_count": null,
   "id": "afc364d7",
   "metadata": {},
   "outputs": [],
   "source": []
  },
  {
   "cell_type": "code",
   "execution_count": null,
   "id": "0502c0c7",
   "metadata": {},
   "outputs": [],
   "source": []
  },
  {
   "cell_type": "code",
   "execution_count": null,
   "id": "b4db2486",
   "metadata": {},
   "outputs": [],
   "source": []
  },
  {
   "cell_type": "code",
   "execution_count": 68,
   "id": "3ee0c804",
   "metadata": {},
   "outputs": [
    {
     "data": {
      "text/plain": [
       "array([1, 3, 5, 7, 9])"
      ]
     },
     "execution_count": 68,
     "metadata": {},
     "output_type": "execute_result"
    }
   ],
   "source": [
    "np.arange(1,10,2)"
   ]
  },
  {
   "cell_type": "code",
   "execution_count": null,
   "id": "dfd29147",
   "metadata": {},
   "outputs": [],
   "source": []
  },
  {
   "cell_type": "code",
   "execution_count": null,
   "id": "654ba3b5",
   "metadata": {},
   "outputs": [],
   "source": []
  },
  {
   "cell_type": "code",
   "execution_count": null,
   "id": "c5e870ab",
   "metadata": {},
   "outputs": [],
   "source": []
  },
  {
   "cell_type": "code",
   "execution_count": null,
   "id": "d12e6374",
   "metadata": {},
   "outputs": [],
   "source": []
  },
  {
   "cell_type": "code",
   "execution_count": null,
   "id": "981835fa",
   "metadata": {},
   "outputs": [],
   "source": []
  },
  {
   "cell_type": "code",
   "execution_count": null,
   "id": "827dacfd",
   "metadata": {},
   "outputs": [],
   "source": []
  },
  {
   "cell_type": "code",
   "execution_count": null,
   "id": "79c8b937-8e59-43e7-9766-a339099514d0",
   "metadata": {},
   "outputs": [],
   "source": []
  },
  {
   "cell_type": "code",
   "execution_count": null,
   "id": "b4f34514-2262-44bf-8ecb-555a9d7934f7",
   "metadata": {},
   "outputs": [],
   "source": []
  },
  {
   "cell_type": "code",
   "execution_count": null,
   "id": "9c5d2792-866e-4ed7-8a04-6f1bac70c623",
   "metadata": {},
   "outputs": [],
   "source": []
  },
  {
   "cell_type": "code",
   "execution_count": null,
   "id": "0b2f16d7-17f4-469e-96bf-ae5f1efae8b2",
   "metadata": {},
   "outputs": [],
   "source": []
  },
  {
   "cell_type": "code",
   "execution_count": null,
   "id": "462abe5a-c718-40e2-bc69-a8a3807b1645",
   "metadata": {},
   "outputs": [],
   "source": []
  }
 ],
 "metadata": {
  "kernelspec": {
   "display_name": "Python 3 (ipykernel)",
   "language": "python",
   "name": "python3"
  },
  "language_info": {
   "codemirror_mode": {
    "name": "ipython",
    "version": 3
   },
   "file_extension": ".py",
   "mimetype": "text/x-python",
   "name": "python",
   "nbconvert_exporter": "python",
   "pygments_lexer": "ipython3",
   "version": "3.11.5"
  }
 },
 "nbformat": 4,
 "nbformat_minor": 5
}
